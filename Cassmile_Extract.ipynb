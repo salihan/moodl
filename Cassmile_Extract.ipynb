{
 "cells": [
  {
   "cell_type": "code",
   "execution_count": 52,
   "id": "4cec5edc",
   "metadata": {},
   "outputs": [],
   "source": [
    "from sqlalchemy import create_engine\n",
    "import pandas as pd\n",
    "\n",
    "# Connect to database and retrieve data using SQLAlchemy\n",
    "engine = create_engine('mysql+pymysql://root:@localhost/moodle')"
   ]
  },
  {
   "cell_type": "code",
   "execution_count": 38,
   "id": "c2a6561c",
   "metadata": {},
   "outputs": [],
   "source": [
    "# Define SQL query to retrieve data from mdl_user table\n",
    "sql_query = 'SELECT * FROM mdl_user'\n",
    "\n",
    "# Load data into a pandas DataFrame\n",
    "df_user = pd.read_sql_query(sql_query, engine)\n",
    "\n",
    "# Convert lastaccess column to datetime format\n",
    "df_user['lastaccess'] = pd.to_datetime(df_user['lastaccess'], unit='s')\n",
    "\n",
    "# Add new columns for year, month, and day\n",
    "df_user['year'] = df_user['lastaccess'].dt.year\n",
    "df_user['month'] = df_user['lastaccess'].dt.month\n",
    "df_user['day'] = df_user['lastaccess'].dt.day\n",
    "\n",
    "# Drop unnecessary columns\n",
    "df_user = df_user.drop(['password', 'idnumber', 'trustbitmask', 'lastnamephonetic', 'firstnamephonetic', 'middlename', 'alternatename', 'moodlenetprofile'], axis=1)\n"
   ]
  },
  {
   "cell_type": "markdown",
   "id": "7d50ad1e",
   "metadata": {},
   "source": [
    "### handling null or empty"
   ]
  },
  {
   "cell_type": "code",
   "execution_count": 39,
   "id": "82c82b68",
   "metadata": {},
   "outputs": [
    {
     "name": "stderr",
     "output_type": "stream",
     "text": [
      "C:\\Anaconda3\\lib\\site-packages\\pandas\\core\\arrays\\datetimes.py:2224: FutureWarning: The parsing of 'now' in pd.to_datetime without `utc=True` is deprecated. In a future version, this will match Timestamp('now') and Timestamp.now()\n",
      "  result, tz_parsed = tslib.array_to_datetime(\n"
     ]
    }
   ],
   "source": [
    "df_enrol['enrolstartdate'].fillna(pd.to_datetime('now'), inplace=True)\n"
   ]
  },
  {
   "cell_type": "code",
   "execution_count": 40,
   "id": "a83a8cb8",
   "metadata": {},
   "outputs": [],
   "source": [
    "# Define SQL queries to retrieve data from tables\n",
    "sql_query_course = 'SELECT * FROM mdl_course'\n",
    "sql_query_user_enrolments = 'SELECT * FROM mdl_user_enrolments'\n",
    "sql_query_enrol = 'SELECT * FROM mdl_enrol'\n",
    "sql_query_logstore_standard_log = 'SELECT * FROM mdl_logstore_standard_log'\n",
    "sql_query_badge_criteria_met = 'SELECT * FROM mdl_badge_criteria_met'\n",
    "sql_query_badge_criteria = 'SELECT * FROM mdl_badge_criteria'\n",
    "sql_query_badge = 'SELECT * FROM mdl_badge'\n",
    "\n",
    "# Load data into pandas DataFrames\n",
    "df_course = pd.read_sql_query(sql_query_course, engine)\n",
    "df_user_enrolments = pd.read_sql_query(sql_query_user_enrolments, engine)\n",
    "df_enrol = pd.read_sql_query(sql_query_enrol, engine)\n",
    "df_logstore_standard_log = pd.read_sql_query(sql_query_logstore_standard_log, engine)\n",
    "df_badge_criteria_met = pd.read_sql_query(sql_query_badge_criteria_met, engine)\n",
    "df_badge_criteria = pd.read_sql_query(sql_query_badge_criteria, engine)\n",
    "df_badge = pd.read_sql_query(sql_query_badge, engine)\n",
    "\n",
    "# Drop unnecessary columns from DataFrames\n",
    "# df_course = df_course.drop(['requested', 'cacherev'], axis=1)\n",
    "# df_user_enrolments = df_user_enrolments.drop(['timeend', 'timemodified'], axis=1)\n",
    "# df_enrol = df_enrol.drop(['timemodified', 'timecreated'], axis=1)\n",
    "# df_logstore_standard_log = df_logstore_standard_log.drop(['id', 'component', 'action', 'target', 'objecttable', 'objectid', 'crud'], axis=1)\n",
    "# df_badge_criteria_met = df_badge_criteria_met.drop(['evidence', 'nonce'], axis=1)\n",
    "# df_badge_criteria = df_badge_criteria.drop(['issuerurl', 'issuername', 'issuercontact'], axis=1)\n",
    "# df_badge = df_badge.drop(['expiredate', 'message', 'issuername', 'issuerurl', 'issuercontact'], axis=1)\n",
    "\n",
    "# Convert columns to datetime format and add year, month, and day columns where necessary\n",
    "df_course['timecreated'] = pd.to_datetime(df_course['timecreated'], unit='s')\n",
    "df_course['year'] = df_course['timecreated'].dt.year\n",
    "df_course['month'] = df_course['timecreated'].dt.month\n",
    "df_course['day'] = df_course['timecreated'].dt.day"
   ]
  },
  {
   "cell_type": "markdown",
   "id": "d03c5979",
   "metadata": {},
   "source": [
    "## ETL repeat"
   ]
  },
  {
   "cell_type": "code",
   "execution_count": 41,
   "id": "192ae1e6",
   "metadata": {},
   "outputs": [],
   "source": [
    "df_badge['timecreated'] = pd.to_datetime(df_badge['timecreated'], unit='s')\n",
    "df_badge['created_year'] = df_badge['timecreated'].dt.year\n",
    "df_badge['created_month'] = df_badge['timecreated'].dt.month\n",
    "df_badge['created_day'] = df_badge['timecreated'].dt.day\n",
    "df_badge['timemodified'] = pd.to_datetime(df_badge['timemodified'], unit='s')\n",
    "df_badge['modified_year'] = df_badge['timemodified'].dt.year\n",
    "df_badge['modified_month'] = df_badge['timemodified'].dt.month\n",
    "df_badge['modified_day'] = df_badge['timemodified'].dt.day"
   ]
  },
  {
   "cell_type": "code",
   "execution_count": 42,
   "id": "f543ac33",
   "metadata": {},
   "outputs": [],
   "source": [
    "df_badge_criteria_met['datemet'] = pd.to_datetime(df_badge_criteria_met['datemet'], unit='s')\n",
    "df_badge_criteria_met['year'] = df_badge_criteria_met['datemet'].dt.year\n",
    "df_badge_criteria_met['month'] = df_badge_criteria_met['datemet'].dt.month\n",
    "df_badge_criteria_met['day'] = df_badge_criteria_met['datemet'].dt.day"
   ]
  },
  {
   "cell_type": "code",
   "execution_count": 43,
   "id": "e80b5b60",
   "metadata": {},
   "outputs": [],
   "source": [
    "df_logstore_standard_log['timecreated'] = pd.to_datetime(df_logstore_standard_log['timecreated'], unit='s')\n",
    "df_logstore_standard_log['year'] = df_logstore_standard_log['timecreated'].dt.year\n",
    "df_logstore_standard_log['month'] = df_logstore_standard_log['timecreated'].dt.month\n",
    "df_logstore_standard_log['day'] = df_logstore_standard_log['timecreated'].dt.day"
   ]
  },
  {
   "cell_type": "code",
   "execution_count": 44,
   "id": "c58b56cf",
   "metadata": {},
   "outputs": [],
   "source": [
    "df_user_enrolments['timestart'] = pd.to_datetime(df_user_enrolments['timestart'], unit='s')\n",
    "df_user_enrolments['year'] = df_user_enrolments['timestart'].dt.year\n",
    "df_user_enrolments['month'] = df_user_enrolments['timestart'].dt.month\n",
    "df_user_enrolments['day'] = df_user_enrolments['timestart'].dt.day"
   ]
  },
  {
   "cell_type": "code",
   "execution_count": 45,
   "id": "14fdb98e",
   "metadata": {},
   "outputs": [],
   "source": [
    "df_enrol['timecreated'] = pd.to_datetime(df_enrol['timecreated'], unit='s')\n",
    "df_enrol['year'] = df_enrol['timecreated'].dt.year\n",
    "df_enrol['month'] = df_enrol['timecreated'].dt.month\n",
    "df_enrol['day'] = df_enrol['timecreated'].dt.day"
   ]
  },
  {
   "cell_type": "markdown",
   "id": "01d93888",
   "metadata": {},
   "source": [
    "## Connect and write to data warehouse"
   ]
  },
  {
   "cell_type": "code",
   "execution_count": 46,
   "id": "fdfe002d",
   "metadata": {},
   "outputs": [
    {
     "data": {
      "text/plain": [
       "25"
      ]
     },
     "execution_count": 46,
     "metadata": {},
     "output_type": "execute_result"
    }
   ],
   "source": [
    "# Connect to 'cassmile' database using SQLAlchemy\n",
    "engine2 = create_engine('mysql+pymysql://root:@localhost/cassmile')\n",
    "\n",
    "# Load DataFrames into tables using SQLAlchemy\n",
    "df_user.to_sql('user', con=engine2, if_exists='replace', index=False)\n",
    "df_course.to_sql('course', con=engine2, if_exists='replace', index=False)\n",
    "df_user_enrolments.to_sql('user_enrolments', con=engine2, if_exists='replace', index=False)\n",
    "df_enrol.to_sql('enrol', con=engine2, if_exists='replace', index=False)\n",
    "df_logstore_standard_log.to_sql('logstore_standard_log', con=engine2, if_exists='replace', index=False)\n",
    "df_badge_criteria_met.to_sql('badge_criteria_met', con=engine2, if_exists='replace', index=False)\n",
    "df_badge_criteria.to_sql('badge_criteria', con=engine2, if_exists='replace', index=False)\n",
    "df_badge.to_sql('badge', con=engine2, if_exists='replace', index=False)\n"
   ]
  },
  {
   "cell_type": "markdown",
   "id": "34be6cde",
   "metadata": {},
   "source": [
    "## tables related to dashboard 2 onwards"
   ]
  },
  {
   "cell_type": "code",
   "execution_count": 47,
   "id": "eeee0710",
   "metadata": {},
   "outputs": [],
   "source": [
    "sql_course_module = \"select * from mdl_course_modules\"\n",
    "sql_modules = \"select * from mdl_modules\"\n",
    "sql_badge_issued = \"select * from mdl_badge_issued\"\n",
    "sql_customcert = \"select * from mdl_customcert\"\n",
    "sql_customcert_issues = \"select * from mdl_customcert_issues\"\n",
    "\n",
    "# Load data into pandas DataFrames\n",
    "df_course_module = pd.read_sql_query(sql_query_course, engine)\n",
    "df_modules = pd.read_sql_query(sql_modules, engine)\n",
    "df_badge_issued = pd.read_sql_query(sql_badge_issued, engine)\n",
    "df_customcert = pd.read_sql_query(sql_customcert, engine)\n",
    "df_customcert_issues = pd.read_sql_query(sql_customcert_issues, engine)"
   ]
  },
  {
   "cell_type": "code",
   "execution_count": 48,
   "id": "66301c31",
   "metadata": {},
   "outputs": [],
   "source": [
    "df_badge_issued['dateissued'] = pd.to_datetime(df_badge_issued['dateissued'], unit='s')\n",
    "df_badge_issued['dateexpire'] = pd.to_datetime(df_badge_issued['dateexpire'], unit='s')\n",
    "df_badge_issued['issuedyear'] = df_badge_issued['dateissued'].dt.year\n",
    "df_badge_issued['issuedmonth'] = df_badge_issued['dateissued'].dt.month\n",
    "df_badge_issued['issuedday'] = df_badge_issued['dateissued'].dt.day\n",
    "df_badge_issued['expireyear'] = df_badge_issued['dateexpire'].dt.year\n",
    "df_badge_issued['expiremonth'] = df_badge_issued['dateexpire'].dt.month\n",
    "df_badge_issued['expireday'] = df_badge_issued['dateexpire'].dt.day\n",
    "\n",
    "df_customcert['timecreated'] = pd.to_datetime(df_customcert['timecreated'], unit='s')\n",
    "df_customcert['year'] = df_customcert['timecreated'].dt.year\n",
    "df_customcert['month'] = df_customcert['timecreated'].dt.month\n",
    "df_customcert['day'] = df_customcert['timecreated'].dt.day\n",
    "\n",
    "df_customcert_issues['timecreated'] = pd.to_datetime(df_customcert_issues['timecreated'], unit='s')\n",
    "df_customcert_issues['year'] = df_customcert_issues['timecreated'].dt.year\n",
    "df_customcert_issues['month'] = df_customcert_issues['timecreated'].dt.month\n",
    "df_customcert_issues['day'] = df_customcert_issues['timecreated'].dt.day"
   ]
  },
  {
   "cell_type": "code",
   "execution_count": 50,
   "id": "9fc2abad",
   "metadata": {},
   "outputs": [
    {
     "data": {
      "text/plain": [
       "38"
      ]
     },
     "execution_count": 50,
     "metadata": {},
     "output_type": "execute_result"
    }
   ],
   "source": [
    "df_badge_issued.to_sql('badge_issued', con=engine2, if_exists='replace', index=False)\n",
    "df_customcert.to_sql('customcert', con=engine2, if_exists='replace', index=False)\n",
    "df_customcert_issues.to_sql('customcert_issues', con=engine2, if_exists='replace', index=False)"
   ]
  },
  {
   "cell_type": "markdown",
   "id": "9d792d5c",
   "metadata": {},
   "source": [
    "### dig_further, reflect and watch"
   ]
  },
  {
   "cell_type": "code",
   "execution_count": 53,
   "id": "406a502a",
   "metadata": {},
   "outputs": [],
   "source": [
    "sql_page = \"select * from mdl_page\"\n",
    "sql_quiz = \"select * from mdl_quiz\"\n",
    "sql_quizgrades = \"select * from mdl_quiz_grades\"\n",
    "sql_url = \"select * from mdl_url\"\n",
    "\n",
    "df_page = pd.read_sql_query(sql_page, engine)\n",
    "df_quiz = pd.read_sql_query(sql_quiz, engine)\n",
    "df_quizgrades = pd.read_sql_query(sql_quizgrades, engine)\n",
    "df_url = pd.read_sql_query(sql_url, engine)"
   ]
  },
  {
   "cell_type": "code",
   "execution_count": 54,
   "id": "25711df9",
   "metadata": {},
   "outputs": [],
   "source": [
    "df_page['timemodified'] = pd.to_datetime(df_page['timemodified'], unit='s')\n",
    "df_page['year'] = df_page['timemodified'].dt.year\n",
    "df_page['month'] = df_page['timemodified'].dt.month\n",
    "df_page['day'] = df_page['timemodified'].dt.day\n",
    "\n",
    "df_quiz['timecreated'] = pd.to_datetime(df_quiz['timecreated'], unit='s')\n",
    "df_quiz['created_year'] = df_quiz['timecreated'].dt.year\n",
    "df_quiz['created_month'] = df_quiz['timecreated'].dt.month\n",
    "df_quiz['created_day'] = df_quiz['timecreated'].dt.day\n",
    "df_quiz['timemodified'] = pd.to_datetime(df_quiz['timemodified'], unit='s')\n",
    "df_quiz['modified_year'] = df_quiz['timemodified'].dt.year\n",
    "df_quiz['modified_month'] = df_quiz['timemodified'].dt.month\n",
    "df_quiz['modified_day'] = df_quiz['timemodified'].dt.day\n",
    "\n",
    "df_quizgrades['timemodified'] = pd.to_datetime(df_quizgrades['timemodified'], unit='s')\n",
    "df_quizgrades['year'] = df_quizgrades['timemodified'].dt.year\n",
    "df_quizgrades['month'] = df_quizgrades['timemodified'].dt.month\n",
    "df_quizgrades['day'] = df_quizgrades['timemodified'].dt.day\n",
    "\n",
    "df_url['timemodified'] = pd.to_datetime(df_url['timemodified'], unit='s')\n",
    "df_url['year'] = df_url['timemodified'].dt.year\n",
    "df_url['month'] = df_url['timemodified'].dt.month\n",
    "df_url['day'] = df_url['timemodified'].dt.day"
   ]
  },
  {
   "cell_type": "code",
   "execution_count": 56,
   "id": "0923909d",
   "metadata": {},
   "outputs": [],
   "source": [
    "# Connect to 'cassmile' database using SQLAlchemy\n",
    "engine2 = create_engine('mysql+pymysql://root:@localhost/cassmile')"
   ]
  },
  {
   "cell_type": "code",
   "execution_count": 57,
   "id": "5c0dda22",
   "metadata": {},
   "outputs": [
    {
     "data": {
      "text/plain": [
       "31"
      ]
     },
     "execution_count": 57,
     "metadata": {},
     "output_type": "execute_result"
    }
   ],
   "source": [
    "df_page.to_sql('page', con=engine2, if_exists='replace', index=False)\n",
    "df_quiz.to_sql('quiz', con=engine2, if_exists='replace', index=False)\n",
    "df_quizgrades.to_sql('quiz_grades', con=engine2, if_exists='replace', index=False)\n",
    "df_url.to_sql('url', con=engine2, if_exists='replace', index=False)"
   ]
  },
  {
   "cell_type": "code",
   "execution_count": null,
   "id": "7b0b41bb",
   "metadata": {},
   "outputs": [],
   "source": []
  }
 ],
 "metadata": {
  "kernelspec": {
   "display_name": "Python 3 (ipykernel)",
   "language": "python",
   "name": "python3"
  },
  "language_info": {
   "codemirror_mode": {
    "name": "ipython",
    "version": 3
   },
   "file_extension": ".py",
   "mimetype": "text/x-python",
   "name": "python",
   "nbconvert_exporter": "python",
   "pygments_lexer": "ipython3",
   "version": "3.9.13"
  }
 },
 "nbformat": 4,
 "nbformat_minor": 5
}
